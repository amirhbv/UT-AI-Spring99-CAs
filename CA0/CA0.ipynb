{
  "nbformat": 4,
  "nbformat_minor": 0,
  "metadata": {
    "colab": {
      "name": "AI - CA0.ipynb",
      "provenance": [],
      "collapsed_sections": [],
      "toc_visible": true,
      "authorship_tag": "ABX9TyPpOSjQjkz/HLivxjFuptr8",
      "include_colab_link": true
    },
    "kernelspec": {
      "name": "python3",
      "display_name": "Python 3"
    }
  },
  "cells": [
    {
      "cell_type": "markdown",
      "metadata": {
        "id": "view-in-github",
        "colab_type": "text"
      },
      "source": [
        "<a href=\"https://colab.research.google.com/github/amirhbv/UT-AI-Spring99-CAs/blob/master/CA0/CA0.ipynb\" target=\"_parent\"><img src=\"https://colab.research.google.com/assets/colab-badge.svg\" alt=\"Open In Colab\"/></a>"
      ]
    },
    {
      "cell_type": "code",
      "metadata": {
        "id": "yYnXfv0Dhyaj",
        "colab_type": "code",
        "colab": {}
      },
      "source": [
        "import pandas as pd\n",
        "import numpy as np\n"
      ],
      "execution_count": 0,
      "outputs": []
    },
    {
      "cell_type": "markdown",
      "metadata": {
        "id": "IT1XWpFpIpQc",
        "colab_type": "text"
      },
      "source": [
        "## Part 1\n",
        "First we load csv file as DataFrame using pandas library.\n",
        "\n",
        "The DataFrame consists of 9 columns, `Serial No.` is the key and `Chance of Admit` is the column going to be predicted.\n"
      ]
    },
    {
      "cell_type": "code",
      "metadata": {
        "id": "ZXnaYXBfnBcz",
        "colab_type": "code",
        "colab": {}
      },
      "source": [
        "df = pd.read_csv(\"AdmissionPredict.csv\")\n",
        "keyColumn = 'Serial No.'\n",
        "predictColumn = 'Chance of Admit'"
      ],
      "execution_count": 0,
      "outputs": []
    },
    {
      "cell_type": "markdown",
      "metadata": {
        "id": "pupNWBLSJL28",
        "colab_type": "text"
      },
      "source": [
        "The head method gives us the first n(by default 5) rows of DataFrame and its header."
      ]
    },
    {
      "cell_type": "code",
      "metadata": {
        "id": "DeQrIlmAnZwI",
        "colab_type": "code",
        "outputId": "4236d041-1d57-4d87-c1f0-23cdf7063ec5",
        "colab": {
          "base_uri": "https://localhost:8080/",
          "height": 204
        }
      },
      "source": [
        "df.head()"
      ],
      "execution_count": 3,
      "outputs": [
        {
          "output_type": "execute_result",
          "data": {
            "text/html": [
              "<div>\n",
              "<style scoped>\n",
              "    .dataframe tbody tr th:only-of-type {\n",
              "        vertical-align: middle;\n",
              "    }\n",
              "\n",
              "    .dataframe tbody tr th {\n",
              "        vertical-align: top;\n",
              "    }\n",
              "\n",
              "    .dataframe thead th {\n",
              "        text-align: right;\n",
              "    }\n",
              "</style>\n",
              "<table border=\"1\" class=\"dataframe\">\n",
              "  <thead>\n",
              "    <tr style=\"text-align: right;\">\n",
              "      <th></th>\n",
              "      <th>Serial No.</th>\n",
              "      <th>GRE Score</th>\n",
              "      <th>TOEFL Score</th>\n",
              "      <th>University Rating</th>\n",
              "      <th>SOP</th>\n",
              "      <th>LOR</th>\n",
              "      <th>CGPA</th>\n",
              "      <th>Research</th>\n",
              "      <th>Chance of Admit</th>\n",
              "    </tr>\n",
              "  </thead>\n",
              "  <tbody>\n",
              "    <tr>\n",
              "      <th>0</th>\n",
              "      <td>1</td>\n",
              "      <td>337.0</td>\n",
              "      <td>118.0</td>\n",
              "      <td>4</td>\n",
              "      <td>4.5</td>\n",
              "      <td>4.5</td>\n",
              "      <td>9.65</td>\n",
              "      <td>1</td>\n",
              "      <td>0.92</td>\n",
              "    </tr>\n",
              "    <tr>\n",
              "      <th>1</th>\n",
              "      <td>2</td>\n",
              "      <td>324.0</td>\n",
              "      <td>107.0</td>\n",
              "      <td>4</td>\n",
              "      <td>4.0</td>\n",
              "      <td>4.5</td>\n",
              "      <td>8.87</td>\n",
              "      <td>1</td>\n",
              "      <td>NaN</td>\n",
              "    </tr>\n",
              "    <tr>\n",
              "      <th>2</th>\n",
              "      <td>3</td>\n",
              "      <td>316.0</td>\n",
              "      <td>NaN</td>\n",
              "      <td>3</td>\n",
              "      <td>3.0</td>\n",
              "      <td>3.5</td>\n",
              "      <td>8.00</td>\n",
              "      <td>1</td>\n",
              "      <td>0.72</td>\n",
              "    </tr>\n",
              "    <tr>\n",
              "      <th>3</th>\n",
              "      <td>4</td>\n",
              "      <td>NaN</td>\n",
              "      <td>110.0</td>\n",
              "      <td>3</td>\n",
              "      <td>3.5</td>\n",
              "      <td>2.5</td>\n",
              "      <td>8.67</td>\n",
              "      <td>1</td>\n",
              "      <td>0.80</td>\n",
              "    </tr>\n",
              "    <tr>\n",
              "      <th>4</th>\n",
              "      <td>5</td>\n",
              "      <td>314.0</td>\n",
              "      <td>103.0</td>\n",
              "      <td>2</td>\n",
              "      <td>2.0</td>\n",
              "      <td>3.0</td>\n",
              "      <td>8.21</td>\n",
              "      <td>0</td>\n",
              "      <td>0.65</td>\n",
              "    </tr>\n",
              "  </tbody>\n",
              "</table>\n",
              "</div>"
            ],
            "text/plain": [
              "   Serial No.  GRE Score  TOEFL Score  ...  CGPA  Research  Chance of Admit\n",
              "0           1      337.0        118.0  ...  9.65         1             0.92\n",
              "1           2      324.0        107.0  ...  8.87         1              NaN\n",
              "2           3      316.0          NaN  ...  8.00         1             0.72\n",
              "3           4        NaN        110.0  ...  8.67         1             0.80\n",
              "4           5      314.0        103.0  ...  8.21         0             0.65\n",
              "\n",
              "[5 rows x 9 columns]"
            ]
          },
          "metadata": {
            "tags": []
          },
          "execution_count": 3
        }
      ]
    },
    {
      "cell_type": "markdown",
      "metadata": {
        "id": "yECfRf0eJkv2",
        "colab_type": "text"
      },
      "source": [
        "The tail method gives us the last n(by default 5) rows of DataFrame and its header."
      ]
    },
    {
      "cell_type": "code",
      "metadata": {
        "id": "1mCL4yvHne92",
        "colab_type": "code",
        "outputId": "74ada4b5-3852-4351-e2f7-49f71fd5a4c0",
        "colab": {
          "base_uri": "https://localhost:8080/",
          "height": 204
        }
      },
      "source": [
        "df.tail()"
      ],
      "execution_count": 4,
      "outputs": [
        {
          "output_type": "execute_result",
          "data": {
            "text/html": [
              "<div>\n",
              "<style scoped>\n",
              "    .dataframe tbody tr th:only-of-type {\n",
              "        vertical-align: middle;\n",
              "    }\n",
              "\n",
              "    .dataframe tbody tr th {\n",
              "        vertical-align: top;\n",
              "    }\n",
              "\n",
              "    .dataframe thead th {\n",
              "        text-align: right;\n",
              "    }\n",
              "</style>\n",
              "<table border=\"1\" class=\"dataframe\">\n",
              "  <thead>\n",
              "    <tr style=\"text-align: right;\">\n",
              "      <th></th>\n",
              "      <th>Serial No.</th>\n",
              "      <th>GRE Score</th>\n",
              "      <th>TOEFL Score</th>\n",
              "      <th>University Rating</th>\n",
              "      <th>SOP</th>\n",
              "      <th>LOR</th>\n",
              "      <th>CGPA</th>\n",
              "      <th>Research</th>\n",
              "      <th>Chance of Admit</th>\n",
              "    </tr>\n",
              "  </thead>\n",
              "  <tbody>\n",
              "    <tr>\n",
              "      <th>395</th>\n",
              "      <td>396</td>\n",
              "      <td>324.0</td>\n",
              "      <td>110.0</td>\n",
              "      <td>3</td>\n",
              "      <td>3.5</td>\n",
              "      <td>3.5</td>\n",
              "      <td>9.04</td>\n",
              "      <td>1</td>\n",
              "      <td>0.82</td>\n",
              "    </tr>\n",
              "    <tr>\n",
              "      <th>396</th>\n",
              "      <td>397</td>\n",
              "      <td>325.0</td>\n",
              "      <td>107.0</td>\n",
              "      <td>3</td>\n",
              "      <td>3.0</td>\n",
              "      <td>3.5</td>\n",
              "      <td>9.11</td>\n",
              "      <td>1</td>\n",
              "      <td>NaN</td>\n",
              "    </tr>\n",
              "    <tr>\n",
              "      <th>397</th>\n",
              "      <td>398</td>\n",
              "      <td>330.0</td>\n",
              "      <td>116.0</td>\n",
              "      <td>4</td>\n",
              "      <td>5.0</td>\n",
              "      <td>4.5</td>\n",
              "      <td>9.45</td>\n",
              "      <td>1</td>\n",
              "      <td>0.91</td>\n",
              "    </tr>\n",
              "    <tr>\n",
              "      <th>398</th>\n",
              "      <td>399</td>\n",
              "      <td>312.0</td>\n",
              "      <td>103.0</td>\n",
              "      <td>3</td>\n",
              "      <td>3.5</td>\n",
              "      <td>4.0</td>\n",
              "      <td>8.78</td>\n",
              "      <td>0</td>\n",
              "      <td>0.67</td>\n",
              "    </tr>\n",
              "    <tr>\n",
              "      <th>399</th>\n",
              "      <td>400</td>\n",
              "      <td>333.0</td>\n",
              "      <td>117.0</td>\n",
              "      <td>4</td>\n",
              "      <td>5.0</td>\n",
              "      <td>4.0</td>\n",
              "      <td>9.66</td>\n",
              "      <td>1</td>\n",
              "      <td>0.95</td>\n",
              "    </tr>\n",
              "  </tbody>\n",
              "</table>\n",
              "</div>"
            ],
            "text/plain": [
              "     Serial No.  GRE Score  TOEFL Score  ...  CGPA  Research  Chance of Admit\n",
              "395         396      324.0        110.0  ...  9.04         1             0.82\n",
              "396         397      325.0        107.0  ...  9.11         1              NaN\n",
              "397         398      330.0        116.0  ...  9.45         1             0.91\n",
              "398         399      312.0        103.0  ...  8.78         0             0.67\n",
              "399         400      333.0        117.0  ...  9.66         1             0.95\n",
              "\n",
              "[5 rows x 9 columns]"
            ]
          },
          "metadata": {
            "tags": []
          },
          "execution_count": 4
        }
      ]
    },
    {
      "cell_type": "markdown",
      "metadata": {
        "id": "ywyX9evjJyzN",
        "colab_type": "text"
      },
      "source": [
        "The describe method generates descriptive statistics from DataFrame."
      ]
    },
    {
      "cell_type": "code",
      "metadata": {
        "id": "YJrUgJ3JnrJ7",
        "colab_type": "code",
        "outputId": "6c376920-a74e-4491-f366-6dcffb4fe013",
        "colab": {
          "base_uri": "https://localhost:8080/",
          "height": 297
        }
      },
      "source": [
        "df.describe()"
      ],
      "execution_count": 5,
      "outputs": [
        {
          "output_type": "execute_result",
          "data": {
            "text/html": [
              "<div>\n",
              "<style scoped>\n",
              "    .dataframe tbody tr th:only-of-type {\n",
              "        vertical-align: middle;\n",
              "    }\n",
              "\n",
              "    .dataframe tbody tr th {\n",
              "        vertical-align: top;\n",
              "    }\n",
              "\n",
              "    .dataframe thead th {\n",
              "        text-align: right;\n",
              "    }\n",
              "</style>\n",
              "<table border=\"1\" class=\"dataframe\">\n",
              "  <thead>\n",
              "    <tr style=\"text-align: right;\">\n",
              "      <th></th>\n",
              "      <th>Serial No.</th>\n",
              "      <th>GRE Score</th>\n",
              "      <th>TOEFL Score</th>\n",
              "      <th>University Rating</th>\n",
              "      <th>SOP</th>\n",
              "      <th>LOR</th>\n",
              "      <th>CGPA</th>\n",
              "      <th>Research</th>\n",
              "      <th>Chance of Admit</th>\n",
              "    </tr>\n",
              "  </thead>\n",
              "  <tbody>\n",
              "    <tr>\n",
              "      <th>count</th>\n",
              "      <td>400.000000</td>\n",
              "      <td>378.000000</td>\n",
              "      <td>380.000000</td>\n",
              "      <td>400.000000</td>\n",
              "      <td>400.000000</td>\n",
              "      <td>400.000000</td>\n",
              "      <td>380.000000</td>\n",
              "      <td>400.000000</td>\n",
              "      <td>384.000000</td>\n",
              "    </tr>\n",
              "    <tr>\n",
              "      <th>mean</th>\n",
              "      <td>200.500000</td>\n",
              "      <td>316.759259</td>\n",
              "      <td>107.386842</td>\n",
              "      <td>3.087500</td>\n",
              "      <td>3.400000</td>\n",
              "      <td>3.452500</td>\n",
              "      <td>8.604737</td>\n",
              "      <td>0.547500</td>\n",
              "      <td>0.724375</td>\n",
              "    </tr>\n",
              "    <tr>\n",
              "      <th>std</th>\n",
              "      <td>115.614301</td>\n",
              "      <td>11.415599</td>\n",
              "      <td>6.048645</td>\n",
              "      <td>1.143728</td>\n",
              "      <td>1.006869</td>\n",
              "      <td>0.898478</td>\n",
              "      <td>0.599167</td>\n",
              "      <td>0.498362</td>\n",
              "      <td>0.142964</td>\n",
              "    </tr>\n",
              "    <tr>\n",
              "      <th>min</th>\n",
              "      <td>1.000000</td>\n",
              "      <td>290.000000</td>\n",
              "      <td>92.000000</td>\n",
              "      <td>1.000000</td>\n",
              "      <td>1.000000</td>\n",
              "      <td>1.000000</td>\n",
              "      <td>6.800000</td>\n",
              "      <td>0.000000</td>\n",
              "      <td>0.340000</td>\n",
              "    </tr>\n",
              "    <tr>\n",
              "      <th>25%</th>\n",
              "      <td>100.750000</td>\n",
              "      <td>308.250000</td>\n",
              "      <td>103.000000</td>\n",
              "      <td>2.000000</td>\n",
              "      <td>2.500000</td>\n",
              "      <td>3.000000</td>\n",
              "      <td>8.170000</td>\n",
              "      <td>0.000000</td>\n",
              "      <td>0.640000</td>\n",
              "    </tr>\n",
              "    <tr>\n",
              "      <th>50%</th>\n",
              "      <td>200.500000</td>\n",
              "      <td>317.000000</td>\n",
              "      <td>107.000000</td>\n",
              "      <td>3.000000</td>\n",
              "      <td>3.500000</td>\n",
              "      <td>3.500000</td>\n",
              "      <td>8.640000</td>\n",
              "      <td>1.000000</td>\n",
              "      <td>0.730000</td>\n",
              "    </tr>\n",
              "    <tr>\n",
              "      <th>75%</th>\n",
              "      <td>300.250000</td>\n",
              "      <td>325.000000</td>\n",
              "      <td>112.000000</td>\n",
              "      <td>4.000000</td>\n",
              "      <td>4.000000</td>\n",
              "      <td>4.000000</td>\n",
              "      <td>9.080000</td>\n",
              "      <td>1.000000</td>\n",
              "      <td>0.830000</td>\n",
              "    </tr>\n",
              "    <tr>\n",
              "      <th>max</th>\n",
              "      <td>400.000000</td>\n",
              "      <td>340.000000</td>\n",
              "      <td>120.000000</td>\n",
              "      <td>5.000000</td>\n",
              "      <td>5.000000</td>\n",
              "      <td>5.000000</td>\n",
              "      <td>9.920000</td>\n",
              "      <td>1.000000</td>\n",
              "      <td>0.970000</td>\n",
              "    </tr>\n",
              "  </tbody>\n",
              "</table>\n",
              "</div>"
            ],
            "text/plain": [
              "       Serial No.   GRE Score  ...    Research  Chance of Admit\n",
              "count  400.000000  378.000000  ...  400.000000       384.000000\n",
              "mean   200.500000  316.759259  ...    0.547500         0.724375\n",
              "std    115.614301   11.415599  ...    0.498362         0.142964\n",
              "min      1.000000  290.000000  ...    0.000000         0.340000\n",
              "25%    100.750000  308.250000  ...    0.000000         0.640000\n",
              "50%    200.500000  317.000000  ...    1.000000         0.730000\n",
              "75%    300.250000  325.000000  ...    1.000000         0.830000\n",
              "max    400.000000  340.000000  ...    1.000000         0.970000\n",
              "\n",
              "[8 rows x 9 columns]"
            ]
          },
          "metadata": {
            "tags": []
          },
          "execution_count": 5
        }
      ]
    },
    {
      "cell_type": "markdown",
      "metadata": {
        "id": "v-koiALMKQA3",
        "colab_type": "text"
      },
      "source": [
        "The info method prints a concise summary of a DataFrame including dtypes, non-null values count and memory usage."
      ]
    },
    {
      "cell_type": "code",
      "metadata": {
        "id": "lsO_MIAWnhNs",
        "colab_type": "code",
        "outputId": "42c7925e-6564-40e5-eab2-49823acc457d",
        "colab": {
          "base_uri": "https://localhost:8080/",
          "height": 255
        }
      },
      "source": [
        "df.info()"
      ],
      "execution_count": 6,
      "outputs": [
        {
          "output_type": "stream",
          "text": [
            "<class 'pandas.core.frame.DataFrame'>\n",
            "RangeIndex: 400 entries, 0 to 399\n",
            "Data columns (total 9 columns):\n",
            "Serial No.           400 non-null int64\n",
            "GRE Score            378 non-null float64\n",
            "TOEFL Score          380 non-null float64\n",
            "University Rating    400 non-null int64\n",
            "SOP                  400 non-null float64\n",
            "LOR                  400 non-null float64\n",
            "CGPA                 380 non-null float64\n",
            "Research             400 non-null int64\n",
            "Chance of Admit      384 non-null float64\n",
            "dtypes: float64(6), int64(3)\n",
            "memory usage: 28.2 KB\n"
          ],
          "name": "stdout"
        }
      ]
    },
    {
      "cell_type": "markdown",
      "metadata": {
        "id": "G4cHq8X-KmYs",
        "colab_type": "text"
      },
      "source": [
        "This part of code gives us count of NaN values in columns."
      ]
    },
    {
      "cell_type": "code",
      "metadata": {
        "id": "fWuIu5j2nj7-",
        "colab_type": "code",
        "outputId": "46649615-4ba4-4ab2-faee-b7a0e8fdd4d0",
        "colab": {
          "base_uri": "https://localhost:8080/",
          "height": 187
        }
      },
      "source": [
        "df.isna().sum()"
      ],
      "execution_count": 7,
      "outputs": [
        {
          "output_type": "execute_result",
          "data": {
            "text/plain": [
              "Serial No.            0\n",
              "GRE Score            22\n",
              "TOEFL Score          20\n",
              "University Rating     0\n",
              "SOP                   0\n",
              "LOR                   0\n",
              "CGPA                 20\n",
              "Research              0\n",
              "Chance of Admit      16\n",
              "dtype: int64"
            ]
          },
          "metadata": {
            "tags": []
          },
          "execution_count": 7
        }
      ]
    },
    {
      "cell_type": "markdown",
      "metadata": {
        "id": "i4soLUwmKxLb",
        "colab_type": "text"
      },
      "source": [
        "Then we replace NaN values with mean of column except for `Chance of Admit` columns as that is the test data. "
      ]
    },
    {
      "cell_type": "code",
      "metadata": {
        "id": "D8FEooXdoCA2",
        "colab_type": "code",
        "outputId": "d55afda9-a489-4cd7-d36c-ff49bee85fbc",
        "colab": {
          "base_uri": "https://localhost:8080/",
          "height": 187
        }
      },
      "source": [
        "columnsWithNan = df.columns[df.isna().any()].tolist()\n",
        "columnsWithNan.remove(predictColumn)\n",
        "df[columnsWithNan] = df[columnsWithNan].fillna(df.mean())\n",
        "\n",
        "df.isna().sum()"
      ],
      "execution_count": 8,
      "outputs": [
        {
          "output_type": "execute_result",
          "data": {
            "text/plain": [
              "Serial No.            0\n",
              "GRE Score             0\n",
              "TOEFL Score           0\n",
              "University Rating     0\n",
              "SOP                   0\n",
              "LOR                   0\n",
              "CGPA                  0\n",
              "Research              0\n",
              "Chance of Admit      16\n",
              "dtype: int64"
            ]
          },
          "metadata": {
            "tags": []
          },
          "execution_count": 8
        }
      ]
    },
    {
      "cell_type": "markdown",
      "metadata": {
        "id": "0ElyBin4LOUz",
        "colab_type": "text"
      },
      "source": [
        "\n",
        "\n",
        "---\n",
        "\n",
        "## Part 2\n",
        "Then we draw scatter plot for each column as horizontal coordinates of each point and `Chance of Admit` as vertical coordinates of each point."
      ]
    },
    {
      "cell_type": "code",
      "metadata": {
        "id": "7WnY3V4tqQjC",
        "colab_type": "code",
        "outputId": "a89e0437-c11f-4ead-d361-81a17344286e",
        "colab": {
          "base_uri": "https://localhost:8080/",
          "height": 1000
        }
      },
      "source": [
        "columns = list(df.columns)\n",
        "columns.remove(predictColumn)\n",
        "\n",
        "for column in columns:\n",
        "    df.plot.scatter(x=column, y=predictColumn)\n"
      ],
      "execution_count": 9,
      "outputs": [
        {
          "output_type": "display_data",
          "data": {
            "image/png": "[encoded data removed]",
            "text/plain": [
              "<Figure size 432x288 with 1 Axes>"
            ]
          },
          "metadata": {
            "tags": []
          }
        },
        {
          "output_type": "display_data",
          "data": {
            "image/png": "[encoded data removed]",
            "text/plain": [
              "<Figure size 432x288 with 1 Axes>"
            ]
          },
          "metadata": {
            "tags": []
          }
        },
        {
          "output_type": "display_data",
          "data": {
            "image/png": "[encoded data removed]",
            "text/plain": [
              "<Figure size 432x288 with 1 Axes>"
            ]
          },
          "metadata": {
            "tags": []
          }
        },
        {
          "output_type": "display_data",
          "data": {
            "image/png": "[encoded data removed]",
            "text/plain": [
              "<Figure size 432x288 with 1 Axes>"
            ]
          },
          "metadata": {
            "tags": []
          }
        },
        {
          "output_type": "display_data",
          "data": {
            "image/png": "[encoded data removed]",
            "text/plain": [
              "<Figure size 432x288 with 1 Axes>"
            ]
          },
          "metadata": {
            "tags": []
          }
        },
        {
          "output_type": "display_data",
          "data": {
            "image/png": "[encoded data removed]",
            "text/plain": [
              "<Figure size 432x288 with 1 Axes>"
            ]
          },
          "metadata": {
            "tags": []
          }
        },
        {
          "output_type": "display_data",
          "data": {
            "image/png": "[encoded data removed]",
            "text/plain": [
              "<Figure size 432x288 with 1 Axes>"
            ]
          },
          "metadata": {
            "tags": []
          }
        },
        {
          "output_type": "display_data",
          "data": {
            "image/png": "[encoded data removed]",
            "text/plain": [
              "<Figure size 432x288 with 1 Axes>"
            ]
          },
          "metadata": {
            "tags": []
          }
        }
      ]
    },
    {
      "cell_type": "markdown",
      "metadata": {
        "id": "vvkfLfwBLuKH",
        "colab_type": "text"
      },
      "source": [
        "To Find the column that has the most correlation with `Chance of Admit` we use [Pearson correlation coefficient](https://en.wikipedia.org/wiki/Pearson_correlation_coefficient) which is a measure of the linear correlation between two variables.\n",
        "\n",
        "Pearson's correlation coefficient for two variables X, Y can be calculated using this formula:\n",
        "\n",
        "$$\\rho_{X,Y} = \\frac{cov(X, Y)}{\\sigma_X \\sigma_Y}$$\n",
        "\n",
        "where\n",
        "*   cov is [covariance](https://en.wikipedia.org/wiki/Covariance)\n",
        "*   $\\sigma_X$ is [standard deviation](https://en.wikipedia.org/wiki/Standard_deviation) of $X$\n",
        "*   $\\sigma_Y$ is standard deviation of $Y$\n",
        "\n",
        "\n",
        "Using this methid the `CGPA` has the most correlation with `Chance of Admit`.\n",
        "\n"
      ]
    },
    {
      "cell_type": "code",
      "metadata": {
        "id": "1kAIjzYks7z3",
        "colab_type": "code",
        "outputId": "10efec92-b818-4583-8988-14176c4ed206",
        "colab": {
          "base_uri": "https://localhost:8080/",
          "height": 328
        }
      },
      "source": [
        "df.corr(method='pearson')"
      ],
      "execution_count": 10,
      "outputs": [
        {
          "output_type": "execute_result",
          "data": {
            "text/html": [
              "<div>\n",
              "<style scoped>\n",
              "    .dataframe tbody tr th:only-of-type {\n",
              "        vertical-align: middle;\n",
              "    }\n",
              "\n",
              "    .dataframe tbody tr th {\n",
              "        vertical-align: top;\n",
              "    }\n",
              "\n",
              "    .dataframe thead th {\n",
              "        text-align: right;\n",
              "    }\n",
              "</style>\n",
              "<table border=\"1\" class=\"dataframe\">\n",
              "  <thead>\n",
              "    <tr style=\"text-align: right;\">\n",
              "      <th></th>\n",
              "      <th>Serial No.</th>\n",
              "      <th>GRE Score</th>\n",
              "      <th>TOEFL Score</th>\n",
              "      <th>University Rating</th>\n",
              "      <th>SOP</th>\n",
              "      <th>LOR</th>\n",
              "      <th>CGPA</th>\n",
              "      <th>Research</th>\n",
              "      <th>Chance of Admit</th>\n",
              "    </tr>\n",
              "  </thead>\n",
              "  <tbody>\n",
              "    <tr>\n",
              "      <th>Serial No.</th>\n",
              "      <td>1.000000</td>\n",
              "      <td>-0.102867</td>\n",
              "      <td>-0.157648</td>\n",
              "      <td>-0.169948</td>\n",
              "      <td>-0.166932</td>\n",
              "      <td>-0.088221</td>\n",
              "      <td>-0.062254</td>\n",
              "      <td>-0.063138</td>\n",
              "      <td>0.047057</td>\n",
              "    </tr>\n",
              "    <tr>\n",
              "      <th>GRE Score</th>\n",
              "      <td>-0.102867</td>\n",
              "      <td>1.000000</td>\n",
              "      <td>0.803483</td>\n",
              "      <td>0.659972</td>\n",
              "      <td>0.599892</td>\n",
              "      <td>0.544010</td>\n",
              "      <td>0.794507</td>\n",
              "      <td>0.572454</td>\n",
              "      <td>0.785166</td>\n",
              "    </tr>\n",
              "    <tr>\n",
              "      <th>TOEFL Score</th>\n",
              "      <td>-0.157648</td>\n",
              "      <td>0.803483</td>\n",
              "      <td>1.000000</td>\n",
              "      <td>0.681877</td>\n",
              "      <td>0.633790</td>\n",
              "      <td>0.555354</td>\n",
              "      <td>0.799066</td>\n",
              "      <td>0.498658</td>\n",
              "      <td>0.758534</td>\n",
              "    </tr>\n",
              "    <tr>\n",
              "      <th>University Rating</th>\n",
              "      <td>-0.169948</td>\n",
              "      <td>0.659972</td>\n",
              "      <td>0.681877</td>\n",
              "      <td>1.000000</td>\n",
              "      <td>0.734523</td>\n",
              "      <td>0.660123</td>\n",
              "      <td>0.733424</td>\n",
              "      <td>0.447783</td>\n",
              "      <td>0.707191</td>\n",
              "    </tr>\n",
              "    <tr>\n",
              "      <th>SOP</th>\n",
              "      <td>-0.166932</td>\n",
              "      <td>0.599892</td>\n",
              "      <td>0.633790</td>\n",
              "      <td>0.734523</td>\n",
              "      <td>1.000000</td>\n",
              "      <td>0.729593</td>\n",
              "      <td>0.695528</td>\n",
              "      <td>0.444029</td>\n",
              "      <td>0.680752</td>\n",
              "    </tr>\n",
              "    <tr>\n",
              "      <th>LOR</th>\n",
              "      <td>-0.088221</td>\n",
              "      <td>0.544010</td>\n",
              "      <td>0.555354</td>\n",
              "      <td>0.660123</td>\n",
              "      <td>0.729593</td>\n",
              "      <td>1.000000</td>\n",
              "      <td>0.660742</td>\n",
              "      <td>0.396859</td>\n",
              "      <td>0.663452</td>\n",
              "    </tr>\n",
              "    <tr>\n",
              "      <th>CGPA</th>\n",
              "      <td>-0.062254</td>\n",
              "      <td>0.794507</td>\n",
              "      <td>0.799066</td>\n",
              "      <td>0.733424</td>\n",
              "      <td>0.695528</td>\n",
              "      <td>0.660742</td>\n",
              "      <td>1.000000</td>\n",
              "      <td>0.514092</td>\n",
              "      <td>0.855675</td>\n",
              "    </tr>\n",
              "    <tr>\n",
              "      <th>Research</th>\n",
              "      <td>-0.063138</td>\n",
              "      <td>0.572454</td>\n",
              "      <td>0.498658</td>\n",
              "      <td>0.447783</td>\n",
              "      <td>0.444029</td>\n",
              "      <td>0.396859</td>\n",
              "      <td>0.514092</td>\n",
              "      <td>1.000000</td>\n",
              "      <td>0.548443</td>\n",
              "    </tr>\n",
              "    <tr>\n",
              "      <th>Chance of Admit</th>\n",
              "      <td>0.047057</td>\n",
              "      <td>0.785166</td>\n",
              "      <td>0.758534</td>\n",
              "      <td>0.707191</td>\n",
              "      <td>0.680752</td>\n",
              "      <td>0.663452</td>\n",
              "      <td>0.855675</td>\n",
              "      <td>0.548443</td>\n",
              "      <td>1.000000</td>\n",
              "    </tr>\n",
              "  </tbody>\n",
              "</table>\n",
              "</div>"
            ],
            "text/plain": [
              "                   Serial No.  GRE Score  ...  Research  Chance of Admit\n",
              "Serial No.           1.000000  -0.102867  ... -0.063138         0.047057\n",
              "GRE Score           -0.102867   1.000000  ...  0.572454         0.785166\n",
              "TOEFL Score         -0.157648   0.803483  ...  0.498658         0.758534\n",
              "University Rating   -0.169948   0.659972  ...  0.447783         0.707191\n",
              "SOP                 -0.166932   0.599892  ...  0.444029         0.680752\n",
              "LOR                 -0.088221   0.544010  ...  0.396859         0.663452\n",
              "CGPA                -0.062254   0.794507  ...  0.514092         0.855675\n",
              "Research            -0.063138   0.572454  ...  1.000000         0.548443\n",
              "Chance of Admit      0.047057   0.785166  ...  0.548443         1.000000\n",
              "\n",
              "[9 rows x 9 columns]"
            ]
          },
          "metadata": {
            "tags": []
          },
          "execution_count": 10
        }
      ]
    },
    {
      "cell_type": "markdown",
      "metadata": {
        "id": "hrDHZtnzRr5w",
        "colab_type": "text"
      },
      "source": [
        "\n",
        "\n",
        "---\n",
        "\n",
        "## Part 3\n",
        "In this part First we count number of students with `CGPA` equal to or greater than 9 and `TOEFL Score` of at least 110."
      ]
    },
    {
      "cell_type": "code",
      "metadata": {
        "id": "E1JKG8xcwMaT",
        "colab_type": "code",
        "outputId": "55ef6aa3-0691-4a5e-eb0b-2541e783374f",
        "colab": {
          "base_uri": "https://localhost:8080/",
          "height": 34
        }
      },
      "source": [
        "numberOfStudents, _ = df[(df['CGPA'] >= 9) & (df['TOEFL Score'] >= 110)].shape\n",
        "numberOfStudents"
      ],
      "execution_count": 11,
      "outputs": [
        {
          "output_type": "execute_result",
          "data": {
            "text/plain": [
              "97"
            ]
          },
          "metadata": {
            "tags": []
          },
          "execution_count": 11
        }
      ]
    },
    {
      "cell_type": "markdown",
      "metadata": {
        "id": "tko1HXtVSUHM",
        "colab_type": "text"
      },
      "source": [
        "Then we calculate mean value of `GRE Score` based on `University Rating`."
      ]
    },
    {
      "cell_type": "code",
      "metadata": {
        "id": "9ur3guYKxnQZ",
        "colab_type": "code",
        "outputId": "390480f0-1c56-4512-a470-fd99f0f058b4",
        "colab": {
          "base_uri": "https://localhost:8080/",
          "height": 136
        }
      },
      "source": [
        "df.groupby(['University Rating']).mean()['GRE Score']"
      ],
      "execution_count": 12,
      "outputs": [
        {
          "output_type": "execute_result",
          "data": {
            "text/plain": [
              "University Rating\n",
              "1    303.153846\n",
              "2    309.752856\n",
              "3    315.934698\n",
              "4    324.075075\n",
              "5    327.954630\n",
              "Name: GRE Score, dtype: float64"
            ]
          },
          "metadata": {
            "tags": []
          },
          "execution_count": 12
        }
      ]
    },
    {
      "cell_type": "markdown",
      "metadata": {
        "id": "h0hGJgk8Sff7",
        "colab_type": "text"
      },
      "source": [
        "\n",
        "\n",
        "---\n",
        "## Part 4\n",
        "Here we want to find a linear estimator for `Chance of Admit` based on `CGPA`.\n",
        "\n",
        "First we remove other columns from DataFrame. Then we drop NaN values to get the train data as a DataFrame.\n"
      ]
    },
    {
      "cell_type": "code",
      "metadata": {
        "id": "uGltak1uyTf2",
        "colab_type": "code",
        "colab": {}
      },
      "source": [
        "x, y = 'CGPA', predictColumn\n",
        "df = df[[keyColumn, x, y]]\n",
        "trainDf = df.dropna()"
      ],
      "execution_count": 0,
      "outputs": []
    },
    {
      "cell_type": "markdown",
      "metadata": {
        "id": "vKqqdZirWmPd",
        "colab_type": "text"
      },
      "source": [
        "Our hypothsis function is:\n",
        "$$ h_{\\theta}(x) = mx + b $$\n",
        "and our cost function is MSE that has **this** formula:\n",
        "$$ J(b, m) = \\frac{1}{2m} \\sum_{i=1}^{m} (h_{\\theta}(x_i) - y_i)^2$$\n",
        "where m is count of train data."
      ]
    },
    {
      "cell_type": "code",
      "metadata": {
        "id": "g7TosxiH2S1g",
        "colab_type": "code",
        "colab": {}
      },
      "source": [
        "xBar = trainDf[x].mean()\n",
        "yBar = trainDf[y].mean()\n",
        "x2Bar = (trainDf[x] * trainDf[x]).mean()\n",
        "xyBar = (trainDf[x] * trainDf[y]).mean()"
      ],
      "execution_count": 0,
      "outputs": []
    },
    {
      "cell_type": "markdown",
      "metadata": {
        "id": "hRSsuDgAX-MM",
        "colab_type": "text"
      },
      "source": [
        "To find the best values for m and b with minimum error I used [this](https://www.freecodecamp.org/news/machine-learning-mean-squared-error-regression-line-c7dde9a26b93/) method.\n",
        "\n",
        "First we try to simplify the formula for MSE:\n",
        "$$ MSE = \\frac{(y_1 - (mx_1 + b))^2 + (y_2 - (mx_2 + b))^2 + \\dots + (y_m - (mx_m + b))^2}{2m} $$\n",
        "\n",
        "By opening brackets and some manipulation we get:\n",
        "\n",
        "$$ MSE = \\frac{(y_1^2 + \\dots + y_n^2) - 2m(x_1y_1 + \\dots + x_my_m) - 2b(y_1 + \\dots + y_m) + m^2(x_1^2 + \\dots + x_m^2) + 2mb(x_1 + \\dots + x_m) + nb^2}{2m} $$\n",
        "\n",
        "We can rewrite formula as this:\n",
        "$$ 2 * MSE = \\overline{y^2} - 2m\\overline{xy} - 2b\\overline{y} + m^2\\overline{x^2} + 2mb\\overline{x} + b^2$$\n",
        "\n",
        "where\n",
        "$$ \\overline{y} = \\frac{y_1 + y_2 + \\dots + y_m}{m} $$\n",
        "$$ \\overline{x} = \\frac{x_1 + x_2 + \\dots + x_m}{m} $$\n",
        "$$ \\overline{y^2} = \\frac{y_1^2 + y_2^2 + \\dots + y_m^2}{m} $$\n",
        "$$ \\overline{x^2} = \\frac{X_1^2 + x_2^2 + \\dots + x_m^2}{m} $$\n",
        "$$ \\overline{xy} = \\frac{x_1y_1 + x_2y_2 + \\dots + x_my_m}{m} $$\n",
        "\n",
        "As we are looking for minimum error we take partial derivatives and compare to 0.\n",
        "\n",
        "$$ \\frac{\\partial MSE}{\\partial m} = \\frac{\\partial MSE}{\\partial b} = 0 $$\n",
        "\n",
        "Which leads us to following formulas for m and b:\n",
        "$$ m = \\frac{\\overline{xy} - \\overline{x}\\overline{y}}{\\overline{x^2} - (\\overline{x})^2} $$\n",
        "$$ b = \\overline{y} - m\\overline{x} $$\n",
        "\n",
        "where m is slope and b is y-intercept.\n",
        "\n",
        "The above method gives us minimum error because at extremum values of a function the slope of tangent line becomes zero and we know that the derivative gives us the equation for slope of tangent line. So when we compare our derivate to zero we find extremums of our function. Our function is quadratic so it has only one extremum and because second derivative of function is positive so our function is upwardly concave and the only extremum of it is the minimum we are looking for."
      ]
    },
    {
      "cell_type": "code",
      "metadata": {
        "id": "HU_5EyMVisE_",
        "colab_type": "code",
        "colab": {}
      },
      "source": [
        "m = (xyBar - xBar * yBar) / (x2Bar - xBar * xBar)\n",
        "b = yBar - m * xBar"
      ],
      "execution_count": 0,
      "outputs": []
    },
    {
      "cell_type": "code",
      "metadata": {
        "id": "EfGWQy5pkDf3",
        "colab_type": "code",
        "outputId": "063e27a3-37a9-4aa8-c8b4-bd89bb8ae5d9",
        "colab": {
          "base_uri": "https://localhost:8080/",
          "height": 34
        }
      },
      "source": [
        " m\n"
      ],
      "execution_count": 16,
      "outputs": [
        {
          "output_type": "execute_result",
          "data": {
            "text/plain": [
              "0.20966222879497512"
            ]
          },
          "metadata": {
            "tags": []
          },
          "execution_count": 16
        }
      ]
    },
    {
      "cell_type": "code",
      "metadata": {
        "id": "-fABGMw8kVs5",
        "colab_type": "code",
        "outputId": "a298a115-194b-4a5c-c83b-ba5e580c306d",
        "colab": {
          "base_uri": "https://localhost:8080/",
          "height": 34
        }
      },
      "source": [
        "b"
      ],
      "execution_count": 17,
      "outputs": [
        {
          "output_type": "execute_result",
          "data": {
            "text/plain": [
              "-1.0800003831374472"
            ]
          },
          "metadata": {
            "tags": []
          },
          "execution_count": 17
        }
      ]
    },
    {
      "cell_type": "markdown",
      "metadata": {
        "id": "_CKsX2mXYXuU",
        "colab_type": "text"
      },
      "source": [
        "As you can see, with above values for m and b we have the following error."
      ]
    },
    {
      "cell_type": "code",
      "metadata": {
        "id": "c-Xxz1N8xoPR",
        "colab_type": "code",
        "outputId": "b9fc7ae9-3730-47ee-8ccd-d50a41bac945",
        "colab": {
          "base_uri": "https://localhost:8080/",
          "height": 34
        }
      },
      "source": [
        "numberOfRows, _ = trainDf.shape\n",
        "mse = ((trainDf[x] * m + b - trainDf[y]) ** 2).sum() / (numberOfRows * 2)\n",
        "mse"
      ],
      "execution_count": 18,
      "outputs": [
        {
          "output_type": "execute_result",
          "data": {
            "text/plain": [
              "0.0027298283892873364"
            ]
          },
          "metadata": {
            "tags": []
          },
          "execution_count": 18
        }
      ]
    },
    {
      "cell_type": "markdown",
      "metadata": {
        "id": "4ds_bs0hYj3X",
        "colab_type": "text"
      },
      "source": [
        "Then we draw the line we founded over scatter plot of train data to see how it fits."
      ]
    },
    {
      "cell_type": "code",
      "metadata": {
        "id": "tYltpm8vlO-_",
        "colab_type": "code",
        "outputId": "9b814770-ac26-4d98-cda5-9c7af282f03b",
        "colab": {
          "base_uri": "https://localhost:8080/",
          "height": 296
        }
      },
      "source": [
        "x_line = np.linspace(df[x].min(), df[x].max())\n",
        "line = m * x_line + b\n",
        "\n",
        "ax = df.plot.scatter(x, y, grid=True) \n",
        "ax.plot(x_line, line, zorder=-1, color='red')\n"
      ],
      "execution_count": 19,
      "outputs": [
        {
          "output_type": "execute_result",
          "data": {
            "text/plain": [
              "[<matplotlib.lines.Line2D at 0x7f41bea52cf8>]"
            ]
          },
          "metadata": {
            "tags": []
          },
          "execution_count": 19
        },
        {
          "output_type": "display_data",
          "data": {
            "image/png": "[encoded data removed]",
            "text/plain": [
              "<Figure size 432x288 with 1 Axes>"
            ]
          },
          "metadata": {
            "tags": []
          }
        }
      ]
    },
    {
      "cell_type": "markdown",
      "metadata": {
        "id": "pQ7d2xmqYtNo",
        "colab_type": "text"
      },
      "source": [
        "At last we calculate the `Chance of Admit` for the test data using above hypothsis function."
      ]
    },
    {
      "cell_type": "code",
      "metadata": {
        "id": "L4pD56KZrt_e",
        "colab_type": "code",
        "outputId": "d4b9fd1a-b311-41ad-9a29-5ecd98dc748e",
        "colab": {
          "base_uri": "https://localhost:8080/",
          "height": 545
        }
      },
      "source": [
        "testDf = df[df.isna().any(axis=1)]\n",
        "\n",
        "pd.DataFrame({\n",
        "    keyColumn: testDf[keyColumn],\n",
        "    x: testDf[x],\n",
        "    y: testDf[x].apply(lambda x: m * x + b)\n",
        "})"
      ],
      "execution_count": 20,
      "outputs": [
        {
          "output_type": "execute_result",
          "data": {
            "text/html": [
              "<div>\n",
              "<style scoped>\n",
              "    .dataframe tbody tr th:only-of-type {\n",
              "        vertical-align: middle;\n",
              "    }\n",
              "\n",
              "    .dataframe tbody tr th {\n",
              "        vertical-align: top;\n",
              "    }\n",
              "\n",
              "    .dataframe thead th {\n",
              "        text-align: right;\n",
              "    }\n",
              "</style>\n",
              "<table border=\"1\" class=\"dataframe\">\n",
              "  <thead>\n",
              "    <tr style=\"text-align: right;\">\n",
              "      <th></th>\n",
              "      <th>Serial No.</th>\n",
              "      <th>CGPA</th>\n",
              "      <th>Chance of Admit</th>\n",
              "    </tr>\n",
              "  </thead>\n",
              "  <tbody>\n",
              "    <tr>\n",
              "      <th>1</th>\n",
              "      <td>2</td>\n",
              "      <td>8.87</td>\n",
              "      <td>0.779704</td>\n",
              "    </tr>\n",
              "    <tr>\n",
              "      <th>57</th>\n",
              "      <td>58</td>\n",
              "      <td>7.60</td>\n",
              "      <td>0.513433</td>\n",
              "    </tr>\n",
              "    <tr>\n",
              "      <th>135</th>\n",
              "      <td>136</td>\n",
              "      <td>8.77</td>\n",
              "      <td>0.758737</td>\n",
              "    </tr>\n",
              "    <tr>\n",
              "      <th>143</th>\n",
              "      <td>144</td>\n",
              "      <td>9.92</td>\n",
              "      <td>0.999849</td>\n",
              "    </tr>\n",
              "    <tr>\n",
              "      <th>171</th>\n",
              "      <td>172</td>\n",
              "      <td>9.07</td>\n",
              "      <td>0.821636</td>\n",
              "    </tr>\n",
              "    <tr>\n",
              "      <th>218</th>\n",
              "      <td>219</td>\n",
              "      <td>8.97</td>\n",
              "      <td>0.800670</td>\n",
              "    </tr>\n",
              "    <tr>\n",
              "      <th>232</th>\n",
              "      <td>233</td>\n",
              "      <td>8.27</td>\n",
              "      <td>0.653906</td>\n",
              "    </tr>\n",
              "    <tr>\n",
              "      <th>251</th>\n",
              "      <td>252</td>\n",
              "      <td>9.00</td>\n",
              "      <td>0.806960</td>\n",
              "    </tr>\n",
              "    <tr>\n",
              "      <th>272</th>\n",
              "      <td>273</td>\n",
              "      <td>7.64</td>\n",
              "      <td>0.521819</td>\n",
              "    </tr>\n",
              "    <tr>\n",
              "      <th>294</th>\n",
              "      <td>295</td>\n",
              "      <td>8.32</td>\n",
              "      <td>0.664389</td>\n",
              "    </tr>\n",
              "    <tr>\n",
              "      <th>315</th>\n",
              "      <td>316</td>\n",
              "      <td>8.07</td>\n",
              "      <td>0.611974</td>\n",
              "    </tr>\n",
              "    <tr>\n",
              "      <th>338</th>\n",
              "      <td>339</td>\n",
              "      <td>8.74</td>\n",
              "      <td>0.752447</td>\n",
              "    </tr>\n",
              "    <tr>\n",
              "      <th>357</th>\n",
              "      <td>358</td>\n",
              "      <td>7.89</td>\n",
              "      <td>0.574235</td>\n",
              "    </tr>\n",
              "    <tr>\n",
              "      <th>381</th>\n",
              "      <td>382</td>\n",
              "      <td>8.67</td>\n",
              "      <td>0.737771</td>\n",
              "    </tr>\n",
              "    <tr>\n",
              "      <th>390</th>\n",
              "      <td>391</td>\n",
              "      <td>8.24</td>\n",
              "      <td>0.647616</td>\n",
              "    </tr>\n",
              "    <tr>\n",
              "      <th>396</th>\n",
              "      <td>397</td>\n",
              "      <td>9.11</td>\n",
              "      <td>0.830023</td>\n",
              "    </tr>\n",
              "  </tbody>\n",
              "</table>\n",
              "</div>"
            ],
            "text/plain": [
              "     Serial No.  CGPA  Chance of Admit\n",
              "1             2  8.87         0.779704\n",
              "57           58  7.60         0.513433\n",
              "135         136  8.77         0.758737\n",
              "143         144  9.92         0.999849\n",
              "171         172  9.07         0.821636\n",
              "218         219  8.97         0.800670\n",
              "232         233  8.27         0.653906\n",
              "251         252  9.00         0.806960\n",
              "272         273  7.64         0.521819\n",
              "294         295  8.32         0.664389\n",
              "315         316  8.07         0.611974\n",
              "338         339  8.74         0.752447\n",
              "357         358  7.89         0.574235\n",
              "381         382  8.67         0.737771\n",
              "390         391  8.24         0.647616\n",
              "396         397  9.11         0.830023"
            ]
          },
          "metadata": {
            "tags": []
          },
          "execution_count": 20
        }
      ]
    },
    {
      "cell_type": "markdown",
      "metadata": {
        "id": "-J7LvmkeZoe0",
        "colab_type": "text"
      },
      "source": [
        "The End.\n",
        "\n",
        "---\n",
        "\n"
      ]
    }
  ]
}